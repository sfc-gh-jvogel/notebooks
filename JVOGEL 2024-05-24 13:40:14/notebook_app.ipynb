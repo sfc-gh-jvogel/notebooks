{
 "metadata": {
  "kernelspec": {
   "display_name": "Streamlit Notebook",
   "name": "streamlit"
  }
 },
 "nbformat_minor": 5,
 "nbformat": 4,
 "cells": [
  {
   "cell_type": "markdown",
   "id": "3775908f-ca36-4846-8f38-5adca39217f2",
   "metadata": {
    "name": "cell1",
    "collapsed": false
   },
   "source": "# Masking Policies & Clones\n\nIHAC ask whether or not masking policies were copied when a database is cloned. This demonstration shows that those policies are abosolutely cloned.\n\n## Create Initial Objects\n\nMake an environment to run our "
  },
  {
   "cell_type": "code",
   "id": "8d50cbf4-0c8d-4950-86cb-114990437ac9",
   "metadata": {
    "language": "sql",
    "name": "cell2",
    "collapsed": false,
    "codeCollapsed": false
   },
   "source": "-- ################################# Create Initial Objects\nuse role accountadmin;\n\n-- create warehouse\ncreate or replace warehouse demo_wh\n    with\n        warehouse_size = 'XSmall'\n        auto_suspend = 30;\n        \n-- issue grants to public role - we will use this to test policies\ngrant usage on warehouse demo_wh to public;\n\ncreate or replace database mp_test;\ncreate or replace schema mp_test.test;\ncreate or replace table mp_test.test.customer as \n(\n    select\n        *\n    from\n        snowflake_sample_data.tpch_sf1.customer \n    limit 100\n);\n\n-- grant usage to mp_test\ngrant usage on database mp_test to role public;\ngrant usage on schema mp_test.test to role public;\ngrant select on table mp_test.test.customer to role public;\n\nselect 'Objects created successfully!' as results;",
   "execution_count": null,
   "outputs": []
  },
  {
   "cell_type": "markdown",
   "id": "07a6fb1d-79f4-4e47-94e6-7d0c7068349a",
   "metadata": {
    "name": "cell12",
    "collapsed": false
   },
   "source": "### Preview the Data\nLet's preview the data using the role `ACCOUNTADMIN`"
  },
  {
   "cell_type": "code",
   "id": "29a8817f-4bac-4f82-8167-e704ced07bb6",
   "metadata": {
    "language": "sql",
    "name": "cell13",
    "collapsed": false
   },
   "outputs": [],
   "source": "use role accountadmin;\nselect\n    *\nfrom\n    mp_test.test.customer;",
   "execution_count": null
  },
  {
   "cell_type": "markdown",
   "id": "d4877bc0-affa-4fd6-ae46-fcbf8070c404",
   "metadata": {
    "name": "cell11",
    "collapsed": false
   },
   "source": "### Compare the Preview\nNow let's look at the data using the `PUBLIC` role. You'll notice, the results are identical."
  },
  {
   "cell_type": "code",
   "id": "09bc5448-0256-45bc-a059-73bd3f60c4f6",
   "metadata": {
    "language": "sql",
    "name": "cell10",
    "collapsed": false
   },
   "outputs": [],
   "source": "-- preview data as public w/o a masking policy\nuse role public;\nselect\n    *\nfrom\n    mp_test.test.customer;",
   "execution_count": null
  },
  {
   "cell_type": "markdown",
   "id": "8966b76a-08bf-4073-ad8b-4a9b4787af26",
   "metadata": {
    "name": "cell8",
    "collapsed": false
   },
   "source": "## Create Masking Policies\n\nA simple masking policies which will obscure phone numbers unless you're using the `ACCOUNDADMIN` role."
  },
  {
   "cell_type": "code",
   "id": "7fbfc04f-8701-4c47-abd3-6c082f1a2e14",
   "metadata": {
    "language": "sql",
    "name": "cell9",
    "collapsed": false
   },
   "outputs": [],
   "source": "use role accountadmin;\n-- create masking policy\ncreate or replace masking policy mp_test.public.phone_mask as (val string) returns string ->\n    case\n        when current_role() in ('ACCOUNTADMIN') then val\n        else '**-***-***-***'\n    end;\n\n-- apply masking policy\nalter table mp_test.test.customer\n    alter column c_phone\n        set masking policy mp_test.public.phone_mask;",
   "execution_count": null
  },
  {
   "cell_type": "markdown",
   "id": "b24de091-b487-4123-a6ba-0db01e2ea467",
   "metadata": {
    "name": "cell16",
    "collapsed": false
   },
   "source": "### Let's Look at the data again\nUsing the `ACCOUNTADMIN` role, we can see the same results as above."
  },
  {
   "cell_type": "code",
   "id": "b64d18c9-65db-4ee4-8d53-89b3c886ae90",
   "metadata": {
    "language": "sql",
    "name": "cell14"
   },
   "outputs": [],
   "source": "-- preview data\nuse role accountadmin;\nselect\n    *\nfrom\n    mp_test.test.customer;",
   "execution_count": null
  },
  {
   "cell_type": "markdown",
   "id": "c6cda872-bb66-4f03-bccd-d56bba1a1eb2",
   "metadata": {
    "name": "cell17",
    "collapsed": false
   },
   "source": "### Masking policy at work\nHowever, now we can see the masking policy at work when querying the data with the `PUBLIC` role."
  },
  {
   "cell_type": "code",
   "id": "f7c1bdfa-0764-428e-811a-62c5a9721887",
   "metadata": {
    "language": "sql",
    "name": "cell15",
    "collapsed": false
   },
   "outputs": [],
   "source": "-- preview data as public with a masking policy\nuse role public;\nselect\n    *\nfrom\n    mp_test.test.customer;  ",
   "execution_count": null
  },
  {
   "cell_type": "markdown",
   "id": "3f8ff162-4635-455d-b9b2-89f60441de3e",
   "metadata": {
    "name": "cell4",
    "collapsed": false
   },
   "source": "## Create Clone of Database\n\nLets take advantage of the Snowflake zero-copy clone in order to do some dev work. In this step we are:\n\n* Creating a Clone\n* Issuing Grants to the Clone"
  },
  {
   "cell_type": "code",
   "id": "c695373e-ac74-4b62-a1f1-08206cbd5c81",
   "metadata": {
    "language": "sql",
    "name": "cell3",
    "collapsed": false
   },
   "source": "use role accountadmin;\ncreate or replace database mp_test_clone\n    clone mp_test;\n\n-- Issue grants to clone\nuse role accountadmin;\ngrant usage on database mp_test_clone to role public;\ngrant usage on schema mp_test_clone.test to role public;\ngrant select on table mp_test_clone.test.customer to role public;",
   "execution_count": null,
   "outputs": []
  },
  {
   "cell_type": "markdown",
   "id": "32f88c97-791f-4046-a701-dfb78871c195",
   "metadata": {
    "name": "cell18",
    "collapsed": false
   },
   "source": "### Did the Mask Clone?\n\nIt looks like its working."
  },
  {
   "cell_type": "code",
   "id": "dd055772-387e-4276-88f5-d5401d3d4333",
   "metadata": {
    "language": "sql",
    "name": "cell19",
    "collapsed": false
   },
   "outputs": [],
   "source": "-- Masking policy cloned to new database\nuse role public;\nselect\n    *\nfrom\n    mp_test_clone.test.customer;",
   "execution_count": null
  },
  {
   "cell_type": "markdown",
   "id": "35bd4e8e-24a6-498e-b8a5-04843387b660",
   "metadata": {
    "name": "cell20",
    "collapsed": false
   },
   "source": "### Let's Confirm the Policy Exists in the Clone\n\nAnd finally, we can see the masking policy has in fact been cloned with the database."
  },
  {
   "cell_type": "code",
   "id": "fae2222d-b0a3-4cae-ab0a-90e8a141a5ec",
   "metadata": {
    "language": "sql",
    "name": "cell21"
   },
   "outputs": [],
   "source": "-- show policies\nuse role accountadmin;\nshow masking policies in account;",
   "execution_count": null
  },
  {
   "cell_type": "markdown",
   "id": "f7fdedd0-8c2c-4330-8fca-7a76c74f623f",
   "metadata": {
    "name": "cell6",
    "collapsed": false
   },
   "source": "## Tear Down\n\nClean up the objects we created in this demonstration."
  },
  {
   "cell_type": "code",
   "id": "9138d849-eaf0-4e10-8d1d-44b225b59efc",
   "metadata": {
    "language": "sql",
    "name": "cell5"
   },
   "outputs": [],
   "source": "use role accountadmin;\ndrop database if exists mp_test;\ndrop database if exists mp_test_clone;\ndrop warehouse if exists demo_wh;",
   "execution_count": null
  },
  {
   "cell_type": "markdown",
   "id": "886cb2a9-6204-4f52-9e08-890370f4547d",
   "metadata": {
    "name": "cell7",
    "collapsed": false
   },
   "source": "# Thank you!"
  }
 ]
}